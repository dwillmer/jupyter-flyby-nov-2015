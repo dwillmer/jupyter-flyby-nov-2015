{
 "cells": [
  {
   "cell_type": "markdown",
   "metadata": {
    "slideshow": {
     "slide_type": "slide"
    }
   },
   "source": [
    "Jupyter Fly-by\n",
    "========\n",
    "\n",
    "Dave Willmer - dwillmer@continuum.io\n",
    "\n",
    "https://github.com/dwillmer/pydata-nov-15\n"
   ]
  },
  {
   "cell_type": "markdown",
   "metadata": {
    "slideshow": {
     "slide_type": "subslide"
    }
   },
   "source": [
    "Jupyter Fly-by\n",
    "========\n",
    "\n",
    "* What is it?\n",
    "* Who is using it?\n",
    "* Project Direction."
   ]
  },
  {
   "cell_type": "markdown",
   "metadata": {
    "slideshow": {
     "slide_type": "slide"
    }
   },
   "source": [
    "What is it?\n",
    "----------\n",
    "\n"
   ]
  },
  {
   "cell_type": "markdown",
   "metadata": {
    "slideshow": {
     "slide_type": "subslide"
    }
   },
   "source": [
    "Interactive Data Science\n",
    "=============\n",
    "\n",
    "* Type code in your browser, execute it remotely, analyse the results in the browser.\n",
    "\n",
    "![](http://jupyter.org/assets/main-logo.svg)"
   ]
  },
  {
   "cell_type": "markdown",
   "metadata": {
    "slideshow": {
     "slide_type": "subslide"
    }
   },
   "source": [
    "Interactive Data Science\n",
    "=============\n",
    "\n",
    "![](http://opensauced.co.uk/images/jupyter.png)\n",
    "\n",
    "Full list: https://github.com/ipython/ipython/wiki/IPython-kernels-for-other-languages"
   ]
  },
  {
   "cell_type": "markdown",
   "metadata": {
    "slideshow": {
     "slide_type": "slide"
    }
   },
   "source": [
    "Who is using it?\n",
    "---------------"
   ]
  },
  {
   "cell_type": "markdown",
   "metadata": {
    "slideshow": {
     "slide_type": "subslide"
    }
   },
   "source": [
    "![](https://cloud.google.com/datalab/images/intro-notebook.png)\n",
    "Source: https://cloud.google.com/datalab"
   ]
  },
  {
   "cell_type": "markdown",
   "metadata": {
    "slideshow": {
     "slide_type": "subslide"
    }
   },
   "source": [
    "![IBM](https://knowledgeanyhow.org/static/images/kawb.png)\n",
    "Source: https://knowledgeanyhow.org"
   ]
  },
  {
   "cell_type": "markdown",
   "metadata": {
    "slideshow": {
     "slide_type": "subslide"
    }
   },
   "source": [
    "![](http://blogs.technet.com/resized-image.ashx/__size/550x0/__key/communityserver-blogs-components-weblogfiles/00-00-01-02-52/Jupyter_2D00_1.1.png)\n",
    "Source: https://blogs.technet.com"
   ]
  },
  {
   "cell_type": "markdown",
   "metadata": {
    "slideshow": {
     "slide_type": "subslide"
    }
   },
   "source": [
    "![](http://img.svbtle.com/nvqcj7okftoqw.png)\n",
    "Source: https://developer.rackspace.com"
   ]
  },
  {
   "cell_type": "markdown",
   "metadata": {},
   "source": [
    "...and a few million data scientists.\n",
    "\n",
    "Source: http://blog.jupyter.org/2015/07/07/project-jupyter-computational-narratives-as-the-engine-of-collaborative-data-science/"
   ]
  },
  {
   "cell_type": "markdown",
   "metadata": {
    "collapsed": true,
    "slideshow": {
     "slide_type": "subslide"
    }
   },
   "source": [
    "Who is using it?\n",
    "----------------\n",
    "\n",
    "Conservative estimate - 2 million IPython users.\n",
    "\n",
    "Recent cloud offerings:\n",
    "    * Google\n",
    "    * IBM\n",
    "    * Microsoft\n",
    "    * Nature (tmpnb)\n",
    "    * O'Reilly\n",
    "    \n",
    "Related projects:\n",
    "    * Binder (https://www.mybinder.org)\n",
    "    * Jupyterhub\n"
   ]
  },
  {
   "cell_type": "markdown",
   "metadata": {
    "slideshow": {
     "slide_type": "slide"
    }
   },
   "source": [
    "Project Direction\n",
    "=========\n",
    "\n",
    "\n"
   ]
  },
  {
   "cell_type": "markdown",
   "metadata": {
    "slideshow": {
     "slide_type": "subslide"
    }
   },
   "source": [
    "Project Direction\n",
    "=========\n",
    "\n",
    "* \"The Big Split\" - Jupyter 4.0.\n",
    "\n"
   ]
  },
  {
   "cell_type": "markdown",
   "metadata": {
    "slideshow": {
     "slide_type": "subslide"
    }
   },
   "source": [
    "Project Direction\n",
    "=========\n",
    "\n",
    "* <font color=\"grey\">\"The Big Split\" - Jupyter 4.0.</font>\n",
    "* Currently building the infrastructure for 5.0...\n",
    "\n"
   ]
  },
  {
   "cell_type": "markdown",
   "metadata": {
    "slideshow": {
     "slide_type": "subslide"
    }
   },
   "source": [
    "The Problem\n",
    "----------"
   ]
  },
  {
   "cell_type": "markdown",
   "metadata": {
    "slideshow": {
     "slide_type": "subslide"
    }
   },
   "source": [
    "The Problem\n",
    "----------\n",
    "\n",
    "* Web technology is *terrible* for applications.\n"
   ]
  },
  {
   "cell_type": "markdown",
   "metadata": {
    "slideshow": {
     "slide_type": "subslide"
    }
   },
   "source": [
    "The Problem\n",
    "----------\n",
    "\n",
    "* <font color=\"grey\">Web technology is *terrible* for applications.</font>\n",
    "* CSS is very limiting for layouts."
   ]
  },
  {
   "cell_type": "markdown",
   "metadata": {
    "slideshow": {
     "slide_type": "subslide"
    }
   },
   "source": [
    "The Problem\n",
    "----------\n",
    "\n",
    "* <font color=\"grey\">Web technology is *terrible* for applications.</font>\n",
    "* <font color=\"grey\">CSS is very limiting for layouts.</font>\n",
    "* Eg. http://codepen.io/wallaceerick/pen/ojtal"
   ]
  },
  {
   "cell_type": "markdown",
   "metadata": {
    "slideshow": {
     "slide_type": "subslide"
    }
   },
   "source": [
    "The Problem\n",
    "----------\n",
    "\n",
    "* <font color=\"grey\">Web technology is *terrible* for applications.</font>\n",
    "* <font color=\"grey\">CSS is very limiting for layouts.</font>\n",
    "* <font color=\"grey\">Eg. http://codepen.io/wallaceerick/pen/ojtal</font>\n",
    "* Contrast that well-written, modern CSS with the first ever desktop GUI:\n",
    "    \n"
   ]
  },
  {
   "cell_type": "code",
   "execution_count": 12,
   "metadata": {
    "collapsed": false,
    "slideshow": {
     "slide_type": "subslide"
    }
   },
   "outputs": [
    {
     "data": {
      "text/html": [
       "\n",
       "        <iframe\n",
       "            width=\"400\"\n",
       "            height=\"300\"\n",
       "            src=\"https://www.youtube.com/embed/cB2h-0YXvN0?autoplay=0&start=26\"\n",
       "            frameborder=\"0\"\n",
       "            allowfullscreen\n",
       "        ></iframe>\n",
       "        "
      ],
      "text/plain": [
       "<IPython.lib.display.YouTubeVideo at 0x106f7d4a8>"
      ]
     },
     "execution_count": 12,
     "metadata": {},
     "output_type": "execute_result"
    }
   ],
   "source": [
    "from IPython.display import YouTubeVideo\n",
    "from datetime import timedelta\n",
    "start = int(timedelta(minutes=0, seconds=26).total_seconds())\n",
    "YouTubeVideo(\"cB2h-0YXvN0\", start=start, autoplay=0)"
   ]
  },
  {
   "cell_type": "markdown",
   "metadata": {
    "slideshow": {
     "slide_type": "subslide"
    }
   },
   "source": [
    "![Xerox](http://toastytech.com/guis/starbitmap2.gif)\n",
    "Source: https://toastytech.com"
   ]
  },
  {
   "cell_type": "markdown",
   "metadata": {
    "slideshow": {
     "slide_type": "subslide"
    }
   },
   "source": [
    "Introducing PhosphorJS\n",
    "============\n",
    "\n",
    "\n",
    "Docs/Intro/Examples:\n",
    "https://phosphorjs.github.io\n",
    "\n",
    "Source:\n",
    "https://github.com/phosphorjs\n",
    "\n"
   ]
  },
  {
   "cell_type": "markdown",
   "metadata": {
    "slideshow": {
     "slide_type": "slide"
    }
   },
   "source": [
    "Many thanks to:\n",
    "    \n",
    "* Rackspace\n",
    "* Bloomberg\n",
    "* Continuum\n",
    "* Chris Colbert"
   ]
  }
 ],
 "metadata": {
  "celltoolbar": "Slideshow",
  "kernelspec": {
   "display_name": "Python 3",
   "language": "python",
   "name": "python3"
  },
  "language_info": {
   "codemirror_mode": {
    "name": "ipython",
    "version": 3
   },
   "file_extension": ".py",
   "mimetype": "text/x-python",
   "name": "python",
   "nbconvert_exporter": "python",
   "pygments_lexer": "ipython3",
   "version": "3.4.3"
  }
 },
 "nbformat": 4,
 "nbformat_minor": 0
}
